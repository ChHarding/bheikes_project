{
 "cells": [
  {
   "cell_type": "code",
   "execution_count": null,
   "metadata": {},
   "outputs": [],
   "source": [
    "import openmeteo_requests as omr\n",
    "import pandas as pd \n",
    "import requests_cache\n",
    "from retry_requests import retry\n",
    "from geopy.geocoders import Nominatim\n",
    "import numpy as np"
   ]
  },
  {
   "cell_type": "code",
   "execution_count": null,
   "metadata": {},
   "outputs": [],
   "source": [
    "\n",
    "def getcoordinates(userlocation):\n",
    "    \"\"\"add docstring\"\"\"\n",
    "    geolocator=Nominatim(user_agent=\"Dress for the Weather\")\n",
    "    location=geolocator.geocode(userlocation)\n",
    "    coordinates=[location.latitude, location.longitude]\n",
    "    #print(coordinates) # CH don't use print inside the function, print the return\n",
    "    return coordinates\n",
    " "
   ]
  },
  {
   "cell_type": "code",
   "execution_count": null,
   "metadata": {},
   "outputs": [],
   "source": [
    "# test getcoordinates function\n",
    "location = \"Seattle, WA\"\n",
    "lat, lon = getcoordinates(location)\n",
    "print(f\"{location}: Latitude: {lat}, Longitude: {lon}\")"
   ]
  },
  {
   "cell_type": "code",
   "execution_count": null,
   "metadata": {},
   "outputs": [],
   "source": [
    "def getweather(lat, lon): # get weather data for given lat, lon\n",
    "    cache_session = requests_cache.CachedSession('.cache', expire_after = 3600)\n",
    "    retry_session = retry(cache_session, retries = 5, backoff_factor = 0.2)\n",
    "    openmeteo = omr.Client(session = retry_session)\n",
    "\n",
    "    url = \"https://api.open-meteo.com/v1/forecast\"\n",
    "    params = {\n",
    "        \"latitude\": lat,\n",
    "        \"longitude\": lon,\n",
    "        \"hourly\": \"temperature_2m\", \n",
    "        \"forecast_days\": 1,\n",
    "        \"temperature_unit\": \"fahrenheit\",\n",
    "        \"wind_speed_unit\": \"mph\",\n",
    "        \"precipitation_unit\": \"inch\",\n",
    "        \"current\": [\"temperature_2m\"],\n",
    "        \"timezone\": \"auto\", # needed for local time conversion\n",
    "    }\n",
    "    responses = openmeteo.weather_api(url, params=params)\n",
    "\n",
    "    # Process first location. Add a for-loop for multiple locations or weather models\n",
    "    response = responses[0]\n",
    "    print(f\"Coordinates: {response.Latitude()}°N {response.Longitude()}°E\")\n",
    "    print(f\"Elevation: {response.Elevation()} m asl\")\n",
    "    print(f\"Timezone difference to GMT+0: {response.UtcOffsetSeconds()}s\")\n",
    "    #get rid of print statements\n",
    "    # You could also return elevation and timezone difference if needed\n",
    "\n",
    "    # Process hourly data. The order of variables needs to be the same as requested.\n",
    "    current = response.Current()\n",
    "    current_temperature_2m = current.Variables(0).Value()\n",
    "\n",
    "    # Access hourly temperature data (1D numpy array)\n",
    "    hourly = response.Hourly()\n",
    "    hourly_temperature_2m = hourly.Variables(0).ValuesAsNumpy()\n",
    "\n",
    "    # You can also get the hourly timestamps (secs since Jan 1, 1970)\n",
    "    hourly_time = hourly.Time()\n",
    "    hourly_time_end = hourly.TimeEnd()\n",
    "\n",
    "    #\n",
    "    # Create a pandas DataFrame with the hourly data\n",
    "    #\n",
    "\n",
    "    # Get the timezone offset for this location\n",
    "    timezone_offset_seconds = response.UtcOffsetSeconds()\n",
    "    \n",
    "    # Convert Unix timestamps to UTC datetime objects first\n",
    "    start_time_utc = pd.to_datetime(hourly_time, unit=\"s\")\n",
    "    end_time_utc = pd.to_datetime(hourly_time_end, unit=\"s\")\n",
    "    \n",
    "    #  Convert to local time by adding the timezone offset\n",
    "    start_time_local = start_time_utc + pd.Timedelta(seconds=timezone_offset_seconds)\n",
    "    end_time_local = end_time_utc + pd.Timedelta(seconds=timezone_offset_seconds)\n",
    "    \n",
    "    # Get the interval between data points (usually 3600 seconds = 1 hour)\n",
    "    interval_seconds = hourly.Interval()\n",
    "    time_step = pd.Timedelta(seconds=interval_seconds)\n",
    "    \n",
    "    # Create a range of dates from start to end with the given interval (in local time)\n",
    "    date_range_local = pd.date_range(\n",
    "        start=start_time_local,\n",
    "        end=end_time_local,\n",
    "        freq=time_step,\n",
    "        inclusive=\"left\"  # Don't include the end time\n",
    "    )\n",
    "    \n",
    "    # Extract just the hour from the datetime objects\n",
    "    hours_only = date_range_local.strftime('%H:%S')  # Format as HH:MM (e.g., \"14:00\")\n",
    "    \n",
    "    # Get the current date (using the first timestamp)\n",
    "    current_date = date_range_local[0].date()\n",
    "    \n",
    "    # Create the dictionary for the DataFrame\n",
    "    hourly_data = {\n",
    "        \"hour\": hours_only,\n",
    "        \"temperature_2m\": hourly_temperature_2m\n",
    "    }\n",
    "    \n",
    "    # Create the DataFrame\n",
    "    hourly_dataframe = pd.DataFrame(data=hourly_data)\n",
    "\n",
    "    return round(current_temperature_2m, 1), hourly_dataframe, current_date\n"
   ]
  },
  {
   "cell_type": "code",
   "execution_count": null,
   "metadata": {},
   "outputs": [],
   "source": [
    "# test getweather\n",
    "current_temp, df, current_date = getweather(lat, lon)\n",
    "print(f\"Current Temperature in {location}: {current_temp}°F\")\n",
    "print(f\"Current Date: {current_date}\")"
   ]
  },
  {
   "cell_type": "code",
   "execution_count": null,
   "metadata": {},
   "outputs": [],
   "source": [
    "\n",
    "# CH it's better to return strings from functions rather than print them directly\n",
    "# E.g. if this would be inside a web app, you would want to return the string to be displayed on the webpage\n",
    "def weather(temperature):\n",
    "    if temperature > 80:\n",
    "        return \"Shorts and a t-shirt\"\n",
    "    elif 60 <= temperature <= 70:\n",
    "        return \"Shorts and a t-shirt or a light jacket\"\n",
    "    elif 50 <= temperature < 60:\n",
    "        return \"pants and a longsleeve\"\n",
    "    elif 40 <= temperature < 50:\n",
    "        return \"pants and a longsleeve with a light jacket\""
   ]
  },
  {
   "cell_type": "code",
   "execution_count": null,
   "metadata": {},
   "outputs": [],
   "source": [
    "# test weather using current_temp\n",
    "print(f\"Recommended clothing for {current_temp}°F: {weather(current_temp)}\")"
   ]
  },
  {
   "cell_type": "code",
   "execution_count": null,
   "metadata": {},
   "outputs": [],
   "source": [
    "# print out the dataframe with hourly data and the current date\n",
    "def print_hourly_dataframe(dataframe, current_date):\n",
    "    print(f\"Hourly Temperature Data for {current_date}:\")\n",
    "    print(dataframe.head())\n"
   ]
  },
  {
   "cell_type": "code",
   "execution_count": null,
   "metadata": {},
   "outputs": [],
   "source": [
    "# plot dataframe \n",
    "import matplotlib.pyplot as plt\n",
    "\n",
    "def plot_hourly_temperature(dataframe, current_date):\n",
    "\n",
    "    # create a figure\n",
    "     \n",
    "    # plot dataframe['hour'] (x) vs dataframe['temperature_2m'] (y)\n",
    "     \n",
    "    # show current date in title\n",
    "     \n",
    "    # label x (Hours) and y (Temperature (°F)) axis\n",
    "    \n",
    "    # rotate x-axis labels for better readability by 45 degrees\n",
    "     \n",
    "    # add a grid\n",
    "    \n",
    "    # show the plot\n",
    "    "
   ]
  },
  {
   "cell_type": "code",
   "execution_count": null,
   "metadata": {},
   "outputs": [],
   "source": [
    "# MAIN part of the script\n",
    "done = False\n",
    "while not done:\n",
    "\n",
    "    location = input(\"Enter your location: \")\n",
    "    lat, lon = getcoordinates(location)\n",
    "    current_temp, df, current_date = getweather(lat, lon)\n",
    "    print(f\"Current Temperature in {location}: {current_temp}°F\")   \n",
    "    print(f\"Recommended clothing for {current_temp}°F: {weather(current_temp)}\")\n",
    "    #print_hourly_dataframe(df, current_date)\n",
    "    plot_hourly_temperature(df, current_date)\n",
    "    again = input(\"Would you like to check another location? (y/n): \")\n",
    "    if again.lower() != 'y':\n",
    "        done = True\n",
    "\n",
    "    "
   ]
  },
  {
   "cell_type": "code",
   "execution_count": null,
   "metadata": {},
   "outputs": [],
   "source": [
    "# plot dataframe \n",
    "import matplotlib.pyplot as plt\n",
    "\n",
    "def plot_hourly_temperature(dataframe, current_date):\n",
    "\n",
    "    # create a figure\n",
    "    plt.figure(figsize=(10, 5)) \n",
    "    # plot dataframe['hour'] (x) vs dataframe['temperature_2m'] (y)\n",
    "    plt.plot(dataframe['hour'], dataframe['temperature_2m'], marker='o')  \n",
    "    # show current date in title\n",
    "    plt.title(f'Hourly Temperature on {current_date}')\n",
    "    # label x (Hours) and y (Temperature (°F)) axis\n",
    "    plt.xlabel('Hour')\n",
    "    plt.ylabel('Temperature (°F)')\n",
    "    # rotate x-axis labels for better readability by 45 degrees\n",
    "    plt.xticks(rotation=45)\n",
    "    # add a grid\n",
    "    plt.grid()\n",
    "    #plt.tight_layout()\n",
    "    # show the plot\n",
    "    plt.show()"
   ]
  },
  {
   "cell_type": "code",
   "execution_count": null,
   "metadata": {},
   "outputs": [],
   "source": []
  }
 ],
 "metadata": {
  "kernelspec": {
   "display_name": "Python 3",
   "language": "python",
   "name": "python3"
  },
  "language_info": {
   "codemirror_mode": {
    "name": "ipython",
    "version": 3
   },
   "file_extension": ".py",
   "mimetype": "text/x-python",
   "name": "python",
   "nbconvert_exporter": "python",
   "pygments_lexer": "ipython3",
   "version": "3.13.8"
  }
 },
 "nbformat": 4,
 "nbformat_minor": 2
}
