{
 "cells": [
  {
   "cell_type": "code",
   "execution_count": 1,
   "metadata": {},
   "outputs": [
    {
     "name": "stderr",
     "output_type": "stream",
     "text": [
      "2025-10-09 18:44:21.232 WARNING streamlit.runtime.scriptrunner_utils.script_run_context: Thread 'MainThread': missing ScriptRunContext! This warning can be ignored when running in bare mode.\n",
      "2025-10-09 18:44:21.297 \n",
      "  \u001b[33m\u001b[1mWarning:\u001b[0m to view this Streamlit app on a browser, run it with the following\n",
      "  command:\n",
      "\n",
      "    streamlit run /Users/bellaheikes/Library/Python/3.13/lib/python/site-packages/ipykernel_launcher.py [ARGUMENTS]\n",
      "2025-10-09 18:44:21.297 Thread 'MainThread': missing ScriptRunContext! This warning can be ignored when running in bare mode.\n",
      "2025-10-09 18:44:21.298 Thread 'MainThread': missing ScriptRunContext! This warning can be ignored when running in bare mode.\n",
      "2025-10-09 18:44:21.298 Thread 'MainThread': missing ScriptRunContext! This warning can be ignored when running in bare mode.\n",
      "2025-10-09 18:44:21.298 Thread 'MainThread': missing ScriptRunContext! This warning can be ignored when running in bare mode.\n",
      "2025-10-09 18:44:21.298 Thread 'MainThread': missing ScriptRunContext! This warning can be ignored when running in bare mode.\n",
      "2025-10-09 18:44:21.299 Thread 'MainThread': missing ScriptRunContext! This warning can be ignored when running in bare mode.\n",
      "2025-10-09 18:44:21.299 Session state does not function when running a script without `streamlit run`\n",
      "2025-10-09 18:44:21.299 Thread 'MainThread': missing ScriptRunContext! This warning can be ignored when running in bare mode.\n",
      "2025-10-09 18:44:21.300 Thread 'MainThread': missing ScriptRunContext! This warning can be ignored when running in bare mode.\n",
      "2025-10-09 18:44:21.300 Thread 'MainThread': missing ScriptRunContext! This warning can be ignored when running in bare mode.\n",
      "2025-10-09 18:44:21.301 Thread 'MainThread': missing ScriptRunContext! This warning can be ignored when running in bare mode.\n",
      "2025-10-09 18:44:21.301 Thread 'MainThread': missing ScriptRunContext! This warning can be ignored when running in bare mode.\n",
      "2025-10-09 18:44:21.301 Thread 'MainThread': missing ScriptRunContext! This warning can be ignored when running in bare mode.\n",
      "2025-10-09 18:44:21.302 Thread 'MainThread': missing ScriptRunContext! This warning can be ignored when running in bare mode.\n",
      "2025-10-09 18:44:21.302 Thread 'MainThread': missing ScriptRunContext! This warning can be ignored when running in bare mode.\n",
      "2025-10-09 18:44:21.302 Thread 'MainThread': missing ScriptRunContext! This warning can be ignored when running in bare mode.\n"
     ]
    },
    {
     "ename": "AttributeError",
     "evalue": "'NoneType' object has no attribute 'latitude'",
     "output_type": "error",
     "traceback": [
      "\u001b[0;31m---------------------------------------------------------------------------\u001b[0m",
      "\u001b[0;31mAttributeError\u001b[0m                            Traceback (most recent call last)",
      "Cell \u001b[0;32mIn[1], line 66\u001b[0m\n\u001b[1;32m     64\u001b[0m place \u001b[38;5;241m=\u001b[39m st\u001b[38;5;241m.\u001b[39mtext_input(\u001b[38;5;124m\"\u001b[39m\u001b[38;5;124mblah\u001b[39m\u001b[38;5;124m\"\u001b[39m)\n\u001b[1;32m     65\u001b[0m st\u001b[38;5;241m.\u001b[39mwrite(\u001b[38;5;124m\"\u001b[39m\u001b[38;5;124mThe place is\u001b[39m\u001b[38;5;124m\"\u001b[39m, place)\n\u001b[0;32m---> 66\u001b[0m st\u001b[38;5;241m.\u001b[39mwrite(\u001b[38;5;124m\"\u001b[39m\u001b[38;5;124mThe coordinates are\u001b[39m\u001b[38;5;124m\"\u001b[39m, \u001b[43mgetcoordinates\u001b[49m\u001b[43m(\u001b[49m\u001b[43mplace\u001b[49m\u001b[43m)\u001b[49m)\n",
      "Cell \u001b[0;32mIn[1], line 12\u001b[0m, in \u001b[0;36mgetcoordinates\u001b[0;34m(userlocation)\u001b[0m\n\u001b[1;32m     10\u001b[0m geolocator\u001b[38;5;241m=\u001b[39mNominatim(user_agent\u001b[38;5;241m=\u001b[39m\u001b[38;5;124m\"\u001b[39m\u001b[38;5;124mDress for the Weather\u001b[39m\u001b[38;5;124m\"\u001b[39m)\n\u001b[1;32m     11\u001b[0m location\u001b[38;5;241m=\u001b[39mgeolocator\u001b[38;5;241m.\u001b[39mgeocode(userlocation)\n\u001b[0;32m---> 12\u001b[0m coordinates\u001b[38;5;241m=\u001b[39m[\u001b[43mlocation\u001b[49m\u001b[38;5;241;43m.\u001b[39;49m\u001b[43mlatitude\u001b[49m, location\u001b[38;5;241m.\u001b[39mlongitude]\n\u001b[1;32m     13\u001b[0m \u001b[38;5;28mprint\u001b[39m(coordinates)\n\u001b[1;32m     14\u001b[0m \u001b[38;5;28;01mreturn\u001b[39;00m coordinates\n",
      "\u001b[0;31mAttributeError\u001b[0m: 'NoneType' object has no attribute 'latitude'"
     ]
    }
   ],
   "source": [
    "import openmeteo_requests as omr\n",
    "import pandas as pd \n",
    "import requests_cache\n",
    "from retry_requests import retry\n",
    "from geopy.geocoders import Nominatim\n",
    "\n",
    "\n",
    "def getcoordinates(userlocation):\n",
    "    geolocator=Nominatim(user_agent=\"Dress for the Weather\")\n",
    "    location=geolocator.geocode(userlocation)\n",
    "    coordinates=[location.latitude, location.longitude]\n",
    "    print(coordinates)\n",
    "    return coordinates\n",
    " \n",
    "\n",
    "def getweather(userlocation):\n",
    "    cache_session = requests_cache.CachedSession('.cache', expire_after = 3600)\n",
    "    retry_session = retry(cache_session, retries = 5, backoff_factor = 0.2)\n",
    "    openmeteo = omr.Client(session = retry_session)\n",
    "\n",
    "    url = \"https://api.open-meteo.com/v1/forecast\"\n",
    "    params = {\n",
    "        \"latitude\": 50,\n",
    "        \"longitude\": 50,\n",
    "        \"hourly\": \"temperature_2m\", \n",
    "        \"forecast_days\": 1,\n",
    "        \"temperature_unit\": \"fahrenheit\",\n",
    "        \"wind_speed_unit\": \"mph\",\n",
    "        \"precipitation_unit\": \"inch\",\n",
    "        \"current\": [\"temperature_2m\"],\n",
    "    }\n",
    "    coordinates=getcoordinates(userlocation)\n",
    "    params.update({\"latitude\": coordinates[0] , \"longitude\": coordinates[1]})\n",
    "\n",
    "    responses = openmeteo.weather_api(url, params=params)\n",
    "\n",
    "    # Process first location. Add a for-loop for multiple locations or weather models\n",
    "    response = responses[0]\n",
    "    print(f\"Coordinates: {response.Latitude()}°N {response.Longitude()}°E\")\n",
    "    print(f\"Elevation: {response.Elevation()} m asl\")\n",
    "    print(f\"Timezone difference to GMT+0: {response.UtcOffsetSeconds()}s\")\n",
    "    #get rid of print statements\n",
    "\n",
    "    # Process hourly data. The order of variables needs to be the same as requested.\n",
    "    current = response.Current()\n",
    "    current_temperature_2m = current.Variables(0).Value()\n",
    "\n",
    "    #hourly_data = {\"date\": pd.Timestamp.today}\n",
    "\n",
    "    #hourly_data[\"temperature_2m\"] = hourly\n",
    "\n",
    "    #hourly_dataframe = pd.DataFrame(data = hourly_data)\n",
    "    print(\"\\nHourly data\\n\", current_temperature_2m)\n",
    "\n",
    "def weather (temperature):\n",
    "    if temperature > 80:\n",
    "        print(\"Shorts and a t-shirt\")\n",
    "    elif 60 <= temperature <= 70:\n",
    "        print(\"Shorts and a t-shirt or a light jacket\")\n",
    "    elif 50 <= temperature < 60:\n",
    "        print(\"pants and a longsleeve\")\n",
    "    elif 40 <= temperature < 50:\n",
    "        print(\"pants and a longsleeve with a light jacket\")\n",
    "\n",
    "getweather(\"Ames, Iowa\")\n"
   ]
  }
 ],
 "metadata": {
  "kernelspec": {
   "display_name": "Python 3",
   "language": "python",
   "name": "python3"
  },
  "language_info": {
   "codemirror_mode": {
    "name": "ipython",
    "version": 3
   },
   "file_extension": ".py",
   "mimetype": "text/x-python",
   "name": "python",
   "nbconvert_exporter": "python",
   "pygments_lexer": "ipython3",
   "version": "3.13.1"
  }
 },
 "nbformat": 4,
 "nbformat_minor": 2
}
