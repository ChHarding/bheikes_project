{
 "cells": [
  {
   "cell_type": "code",
   "execution_count": null,
   "metadata": {},
   "outputs": [
    {
     "name": "stdout",
     "output_type": "stream",
     "text": [
      "[42.0267567, -93.6170448]\n",
      "Coordinates: 42.02252197265625°N -93.62749481201172°E\n",
      "Elevation: 285.0 m asl\n",
      "Timezone difference to GMT+0: 0s\n",
      "\n",
      "Hourly data\n",
      " 74.25320434570312\n"
     ]
    }
   ],
   "source": [
    "import openmeteo_requests as omr\n",
    "import pandas as pd \n",
    "import requests_cache\n",
    "from retry_requests import retry\n",
    "from geopy.geocoders import Nominatim\n",
    "\n",
    "\n",
    "def getcoordinates(userlocation):\n",
    "    geolocator=Nominatim(user_agent=\"Dress for the Weather\")\n",
    "    location=geolocator.geocode(userlocation)\n",
    "    coordinates=[location.latitude, location.longitude]\n",
    "    print(coordinates)\n",
    "    return coordinates\n",
    " \n",
    "\n",
    "def getweather(userlocation):\n",
    "    cache_session = requests_cache.CachedSession('.cache', expire_after = 3600)\n",
    "    retry_session = retry(cache_session, retries = 5, backoff_factor = 0.2)\n",
    "    openmeteo = omr.Client(session = retry_session)\n",
    "\n",
    "    url = \"https://api.open-meteo.com/v1/forecast\"\n",
    "    params = {\n",
    "        \"hourly\": \"temperature_2m\", \n",
    "        \"forecast_days\": 1,\n",
    "        \"temperature_unit\": \"fahrenheit\",\n",
    "        \"wind_speed_unit\": \"mph\",\n",
    "        \"precipitation_unit\": \"inch\",\n",
    "        \"current\": [\"temperature_2m\"],\n",
    "    }\n",
    "    coordinates=getcoordinates(userlocation)\n",
    "    params.update({\"latitude\": coordinates[0] , \"longitude\": coordinates[1]})\n",
    "\n",
    "    responses = openmeteo.weather_api(url, params=params)\n",
    "\n",
    "    # Process first location. Add a for-loop for multiple locations or weather models\n",
    "    response = responses[0]\n",
    "    print(f\"Coordinates: {response.Latitude()}°N {response.Longitude()}°E\")\n",
    "    print(f\"Elevation: {response.Elevation()} m asl\")\n",
    "    print(f\"Timezone difference to GMT+0: {response.UtcOffsetSeconds()}s\")\n",
    "    #get rid of print statements\n",
    "\n",
    "    # Process hourly data. The order of variables needs to be the same as requested.\n",
    "    current = response.Current()\n",
    "    current_temperature_2m = current.Variables(0).Value()\n",
    "\n",
    "    #hourly_data = {\"date\": pd.Timestamp.today}\n",
    "\n",
    "    #hourly_data[\"temperature_2m\"] = hourly\n",
    "\n",
    "    #hourly_dataframe = pd.DataFrame(data = hourly_data)\n",
    "    print(\"\\nHourly data\\n\", current_temperature_2m)\n",
    "\n",
    "def weather (temperature):\n",
    "    if temperature > 80:\n",
    "        return(\"Shorts and a t-shirt\")\n",
    "    elif 60 <= temperature <= 70:\n",
    "        return(\"Shorts and a t-shirt or a light jacket\")\n",
    "    elif 50 <= temperature < 60:\n",
    "        return(\"pants and a longsleeve\")\n",
    "    elif 40 <= temperature < 50:\n",
    "        return(\"pants and a longsleeve with a light jacket\")\n",
    "\n",
    "getweather(\"Ames, Iowa\")\n"
   ]
  }
 ],
 "metadata": {
  "kernelspec": {
   "display_name": "Python 3",
   "language": "python",
   "name": "python3"
  },
  "language_info": {
   "codemirror_mode": {
    "name": "ipython",
    "version": 3
   },
   "file_extension": ".py",
   "mimetype": "text/x-python",
   "name": "python",
   "nbconvert_exporter": "python",
   "pygments_lexer": "ipython3",
   "version": "3.13.1"
  }
 },
 "nbformat": 4,
 "nbformat_minor": 2
}
